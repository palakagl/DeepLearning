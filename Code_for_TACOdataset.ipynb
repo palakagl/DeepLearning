{
  "cells": [
    {
      "cell_type": "markdown",
      "metadata": {
        "id": "view-in-github",
        "colab_type": "text"
      },
      "source": [
        "<a href=\"https://colab.research.google.com/github/JessicaDYLee/DeepLearning/blob/main/Code_for_TACOdataset.ipynb\" target=\"_parent\"><img src=\"https://colab.research.google.com/assets/colab-badge.svg\" alt=\"Open In Colab\"/></a>"
      ]
    },
    {
      "cell_type": "code",
      "execution_count": null,
      "id": "83456ed8",
      "metadata": {
        "id": "83456ed8"
      },
      "outputs": [],
      "source": [
        "### Libraries"
      ]
    },
    {
      "cell_type": "code",
      "execution_count": null,
      "id": "4a3ec9a8",
      "metadata": {
        "id": "4a3ec9a8"
      },
      "outputs": [],
      "source": [
        "# Import modules\n",
        "# Add modules as needed\n",
        "from sklearn.datasets import fetch_openml\n",
        "from sklearn.model_selection import train_test_split\n",
        "\n",
        "# For windows laptops add following 2 lines:\n",
        "# import matplotlib\n",
        "# matplotlib.use('agg')\n",
        "\n",
        "import matplotlib.pyplot as plt\n",
        "\n",
        "import tensorflow.keras as keras\n",
        "from tensorflow.keras.models import Sequential\n",
        "from tensorflow.keras.layers import Dense, Dropout"
      ]
    },
    {
      "cell_type": "code",
      "source": [
        ""
      ],
      "metadata": {
        "id": "c7GfdtJ5-oqD"
      },
      "id": "c7GfdtJ5-oqD",
      "execution_count": null,
      "outputs": []
    },
    {
      "cell_type": "markdown",
      "source": [
        "jessica test"
      ],
      "metadata": {
        "id": "DLS_9Mz3-pBu"
      },
      "id": "DLS_9Mz3-pBu"
    },
    {
      "cell_type": "code",
      "execution_count": null,
      "id": "d3894a34",
      "metadata": {
        "id": "d3894a34"
      },
      "outputs": [],
      "source": [
        "### Data preparation\n",
        "\n",
        "#### Import data"
      ]
    },
    {
      "cell_type": "code",
      "execution_count": null,
      "id": "66f3825d",
      "metadata": {
        "id": "66f3825d"
      },
      "outputs": [],
      "source": [
        "def load_data():\n",
        "    # Import IMAGENET dataset\n",
        "    dataset = \n",
        "\n",
        "    # Data preparation\n",
        "    raw_X = dataset['data']\n",
        "    raw_Y = dataset['target']\n",
        "    return raw_X, raw_Y\n",
        "\n",
        "raw_X, raw_Y = load_data()"
      ]
    },
    {
      "cell_type": "code",
      "execution_count": null,
      "id": "3041f38e",
      "metadata": {
        "id": "3041f38e"
      },
      "outputs": [],
      "source": [
        "def clean_data(raw_X, raw_Y):\n",
        "    # TODO: clean and QA raw_X and raw_Y\n",
        "    # DO NOT CHANGE THE INPUTS OR OUTPUTS TO THIS FUNCTION\n",
        "\n",
        "    # X transformation\n",
        "    cleaned_X = raw_X / 127.5 - 1.0\n",
        "\n",
        "    # Y transformation\n",
        "    cleaned_Y = keras.utils.to_categorical(raw_Y)\n",
        "    \n",
        "    return cleaned_X, cleaned_Y\n",
        "\n",
        "cleaned_X, cleaned_Y = clean_data(raw_X, raw_Y)"
      ]
    },
    {
      "cell_type": "code",
      "execution_count": null,
      "id": "6169064b",
      "metadata": {
        "id": "6169064b"
      },
      "outputs": [],
      "source": [
        "### Data Split"
      ]
    },
    {
      "cell_type": "code",
      "execution_count": null,
      "id": "bdc8f570",
      "metadata": {
        "id": "bdc8f570"
      },
      "outputs": [],
      "source": [
        "# Upload TACO dataset\n",
        "\n",
        "\n",
        "\n",
        "\n",
        "\n",
        "\n",
        "\n"
      ]
    },
    {
      "cell_type": "code",
      "execution_count": null,
      "id": "9a27cd30",
      "metadata": {
        "id": "9a27cd30"
      },
      "outputs": [],
      "source": [
        "### Visulaizing the dataset"
      ]
    },
    {
      "cell_type": "code",
      "execution_count": null,
      "id": "2644fe61",
      "metadata": {
        "id": "2644fe61"
      },
      "outputs": [],
      "source": [
        "def viz_data(X_train):\n",
        "\n",
        "\n",
        "viz_data(X_train)"
      ]
    },
    {
      "cell_type": "code",
      "execution_count": null,
      "id": "718cb7a2",
      "metadata": {
        "id": "718cb7a2"
      },
      "outputs": [],
      "source": [
        "### Model"
      ]
    },
    {
      "cell_type": "code",
      "execution_count": null,
      "id": "f6be8569",
      "metadata": {
        "id": "f6be8569"
      },
      "outputs": [],
      "source": [
        "# build the model\n",
        "def build_model():\n",
        "    \n",
        "    model = Sequential()\n",
        "    model.add(Conv2D(32, (3, 3), activation='relu', input_shape=(28, 28, 1)))\n",
        "    model.add(MaxPooling2D((2, 2)))\n",
        "    model.add(Conv2D(64, (3, 3), activation='relu'))\n",
        "    model.add(Conv2D(64, (3, 3), activation='relu'))\n",
        "    model.add(MaxPooling2D((2, 2)))\n",
        "    model.add(Dropout(0.2))\n",
        "    model.add(Conv2D(128, (3, 3), activation='relu'))\n",
        "    model.add(MaxPooling2D((2, 2)))\n",
        "    model.add(Flatten())\n",
        "    model.add(Dense(100, activation='sigmoid'))\n",
        "    model.add(Dense(10, activation='softmax'))\n",
        "    \n",
        "    return model\n",
        "\n",
        "# compile the model\n",
        "def compile_model(model):\n",
        "    \n",
        "    model.compile(optimizer=\"adam\", loss='categorical_crossentropy', metrics=['accuracy'])\n",
        "\n",
        "    return model\n",
        "\n",
        "# train the model\n",
        "def train_model(model, X_train, Y_train, X_val, Y_val):\n",
        "       \n",
        "    history = model.fit(X_train, Y_train,\n",
        "          batch_size=128, epochs=21,\n",
        "          verbose=2,\n",
        "          validation_data=(X_val, Y_val))\n",
        "    \n",
        "    return model, history\n",
        "\n",
        "# Evaluate the model\n",
        "def eval_model(model, X_test, Y_test):\n",
        "   \n",
        "    test_loss, test_accuracy = model.evaluate(X_test, Y_test, verbose=2)\n",
        "\n",
        "    print('Test Accuracy: %.2f' % (test_accuracy*100))\n",
        "    print('Test loss: %.2f' % (test_loss))\n",
        "\n",
        "    return test_loss, test_accuracy"
      ]
    },
    {
      "cell_type": "code",
      "execution_count": null,
      "id": "d533b8fd",
      "metadata": {
        "id": "d533b8fd"
      },
      "outputs": [],
      "source": [
        "model.summary()"
      ]
    },
    {
      "cell_type": "code",
      "execution_count": null,
      "id": "7726f5b8",
      "metadata": {
        "id": "7726f5b8"
      },
      "outputs": [],
      "source": [
        "## Checking the Accuracy for our Model\n",
        "model = build_model()\n",
        "model = compile_model(model)\n",
        "model, history = train_model(model, X_train, Y_train, X_val, Y_val)\n",
        "test_loss, test_accuracy = eval_model(model, X_test, Y_test)"
      ]
    }
  ],
  "metadata": {
    "kernelspec": {
      "display_name": "Python 3",
      "language": "python",
      "name": "python3"
    },
    "language_info": {
      "codemirror_mode": {
        "name": "ipython",
        "version": 3
      },
      "file_extension": ".py",
      "mimetype": "text/x-python",
      "name": "python",
      "nbconvert_exporter": "python",
      "pygments_lexer": "ipython3",
      "version": "3.8.8"
    },
    "colab": {
      "name": "Code_for_TACOdataset.ipynb",
      "provenance": [],
      "include_colab_link": true
    }
  },
  "nbformat": 4,
  "nbformat_minor": 5
}