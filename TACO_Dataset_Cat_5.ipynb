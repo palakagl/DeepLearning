{
  "nbformat": 4,
  "nbformat_minor": 0,
  "metadata": {
    "colab": {
      "name": "TACO_Dataset_Cat_5.ipynb",
      "provenance": [],
      "authorship_tag": "ABX9TyNafoeeUVK5ZYmIt+fyFt41",
      "include_colab_link": true
    },
    "kernelspec": {
      "name": "python3",
      "display_name": "Python 3"
    },
    "language_info": {
      "name": "python"
    },
    "accelerator": "GPU"
  },
  "cells": [
    {
      "cell_type": "markdown",
      "metadata": {
        "id": "view-in-github",
        "colab_type": "text"
      },
      "source": [
        "<a href=\"https://colab.research.google.com/github/palakagl/DeepLearning/blob/main/TACO_Dataset_Cat_5.ipynb\" target=\"_parent\"><img src=\"https://colab.research.google.com/assets/colab-badge.svg\" alt=\"Open In Colab\"/></a>"
      ]
    },
    {
      "cell_type": "code",
      "execution_count": 2,
      "metadata": {
        "id": "fKE5nTxH8i3K",
        "colab": {
          "base_uri": "https://localhost:8080/"
        },
        "outputId": "acca102b-77f0-4ae6-d9d6-336aed86b4eb"
      },
      "outputs": [
        {
          "output_type": "stream",
          "name": "stdout",
          "text": [
            "Collecting neptune-client\n",
            "  Downloading neptune-client-0.15.2.tar.gz (315 kB)\n",
            "\u001b[?25l\r\u001b[K     |█                               | 10 kB 18.4 MB/s eta 0:00:01\r\u001b[K     |██                              | 20 kB 13.5 MB/s eta 0:00:01\r\u001b[K     |███▏                            | 30 kB 5.9 MB/s eta 0:00:01\r\u001b[K     |████▏                           | 40 kB 5.0 MB/s eta 0:00:01\r\u001b[K     |█████▏                          | 51 kB 2.4 MB/s eta 0:00:01\r\u001b[K     |██████▎                         | 61 kB 2.9 MB/s eta 0:00:01\r\u001b[K     |███████▎                        | 71 kB 3.3 MB/s eta 0:00:01\r\u001b[K     |████████▎                       | 81 kB 3.5 MB/s eta 0:00:01\r\u001b[K     |█████████▍                      | 92 kB 3.9 MB/s eta 0:00:01\r\u001b[K     |██████████▍                     | 102 kB 3.2 MB/s eta 0:00:01\r\u001b[K     |███████████▍                    | 112 kB 3.2 MB/s eta 0:00:01\r\u001b[K     |████████████▌                   | 122 kB 3.2 MB/s eta 0:00:01\r\u001b[K     |█████████████▌                  | 133 kB 3.2 MB/s eta 0:00:01\r\u001b[K     |██████████████▌                 | 143 kB 3.2 MB/s eta 0:00:01\r\u001b[K     |███████████████▋                | 153 kB 3.2 MB/s eta 0:00:01\r\u001b[K     |████████████████▋               | 163 kB 3.2 MB/s eta 0:00:01\r\u001b[K     |█████████████████▋              | 174 kB 3.2 MB/s eta 0:00:01\r\u001b[K     |██████████████████▊             | 184 kB 3.2 MB/s eta 0:00:01\r\u001b[K     |███████████████████▊            | 194 kB 3.2 MB/s eta 0:00:01\r\u001b[K     |████████████████████▊           | 204 kB 3.2 MB/s eta 0:00:01\r\u001b[K     |█████████████████████▉          | 215 kB 3.2 MB/s eta 0:00:01\r\u001b[K     |██████████████████████▉         | 225 kB 3.2 MB/s eta 0:00:01\r\u001b[K     |███████████████████████▉        | 235 kB 3.2 MB/s eta 0:00:01\r\u001b[K     |█████████████████████████       | 245 kB 3.2 MB/s eta 0:00:01\r\u001b[K     |██████████████████████████      | 256 kB 3.2 MB/s eta 0:00:01\r\u001b[K     |███████████████████████████     | 266 kB 3.2 MB/s eta 0:00:01\r\u001b[K     |████████████████████████████    | 276 kB 3.2 MB/s eta 0:00:01\r\u001b[K     |█████████████████████████████   | 286 kB 3.2 MB/s eta 0:00:01\r\u001b[K     |██████████████████████████████  | 296 kB 3.2 MB/s eta 0:00:01\r\u001b[K     |███████████████████████████████▏| 307 kB 3.2 MB/s eta 0:00:01\r\u001b[K     |████████████████████████████████| 315 kB 3.2 MB/s \n",
            "\u001b[?25hCollecting neptune-tensorflow-keras\n",
            "  Downloading neptune-tensorflow-keras-0.9.9.tar.gz (20 kB)\n",
            "Requirement already satisfied: tensorflow in /usr/local/lib/python3.7/dist-packages (2.8.0)\n",
            "Collecting bravado\n",
            "  Downloading bravado-11.0.3-py2.py3-none-any.whl (38 kB)\n",
            "Requirement already satisfied: click>=7.0 in /usr/local/lib/python3.7/dist-packages (from neptune-client) (7.1.2)\n",
            "Collecting future>=0.17.1\n",
            "  Downloading future-0.18.2.tar.gz (829 kB)\n",
            "\u001b[K     |████████████████████████████████| 829 kB 37.2 MB/s \n",
            "\u001b[?25hRequirement already satisfied: oauthlib>=2.1.0 in /usr/local/lib/python3.7/dist-packages (from neptune-client) (3.2.0)\n",
            "Requirement already satisfied: pandas in /usr/local/lib/python3.7/dist-packages (from neptune-client) (1.3.5)\n",
            "Requirement already satisfied: Pillow>=1.1.6 in /usr/local/lib/python3.7/dist-packages (from neptune-client) (7.1.2)\n",
            "Collecting PyJWT\n",
            "  Downloading PyJWT-2.3.0-py3-none-any.whl (16 kB)\n",
            "Requirement already satisfied: requests>=2.20.0 in /usr/local/lib/python3.7/dist-packages (from neptune-client) (2.23.0)\n",
            "Requirement already satisfied: requests-oauthlib>=1.0.0 in /usr/local/lib/python3.7/dist-packages (from neptune-client) (1.3.1)\n",
            "Requirement already satisfied: six>=1.12.0 in /usr/local/lib/python3.7/dist-packages (from neptune-client) (1.15.0)\n",
            "Collecting websocket-client!=1.0.0,>=0.35.0\n",
            "  Downloading websocket_client-1.3.1-py3-none-any.whl (54 kB)\n",
            "\u001b[K     |████████████████████████████████| 54 kB 2.2 MB/s \n",
            "\u001b[?25hCollecting GitPython>=2.0.8\n",
            "  Downloading GitPython-3.1.27-py3-none-any.whl (181 kB)\n",
            "\u001b[K     |████████████████████████████████| 181 kB 33.1 MB/s \n",
            "\u001b[?25hCollecting boto3>=1.16.0\n",
            "  Downloading boto3-1.21.21-py3-none-any.whl (132 kB)\n",
            "\u001b[K     |████████████████████████████████| 132 kB 43.4 MB/s \n",
            "\u001b[?25hRequirement already satisfied: packaging in /usr/local/lib/python3.7/dist-packages (from neptune-client) (21.3)\n",
            "Requirement already satisfied: urllib3 in /usr/local/lib/python3.7/dist-packages (from neptune-client) (1.24.3)\n",
            "Collecting swagger-spec-validator>=2.7.4\n",
            "  Downloading swagger_spec_validator-2.7.4-py2.py3-none-any.whl (27 kB)\n",
            "Requirement already satisfied: psutil in /usr/local/lib/python3.7/dist-packages (from neptune-client) (5.4.8)\n",
            "Collecting jmespath<2.0.0,>=0.7.1\n",
            "  Downloading jmespath-1.0.0-py3-none-any.whl (23 kB)\n",
            "Collecting s3transfer<0.6.0,>=0.5.0\n",
            "  Downloading s3transfer-0.5.2-py3-none-any.whl (79 kB)\n",
            "\u001b[K     |████████████████████████████████| 79 kB 3.7 MB/s \n",
            "\u001b[?25hCollecting botocore<1.25.0,>=1.24.21\n",
            "  Downloading botocore-1.24.21-py3-none-any.whl (8.6 MB)\n",
            "\u001b[K     |████████████████████████████████| 8.6 MB 34.4 MB/s \n",
            "\u001b[?25hCollecting urllib3\n",
            "  Downloading urllib3-1.26.9-py2.py3-none-any.whl (138 kB)\n",
            "\u001b[K     |████████████████████████████████| 138 kB 44.2 MB/s \n",
            "\u001b[?25hRequirement already satisfied: python-dateutil<3.0.0,>=2.1 in /usr/local/lib/python3.7/dist-packages (from botocore<1.25.0,>=1.24.21->boto3>=1.16.0->neptune-client) (2.8.2)\n",
            "Requirement already satisfied: typing-extensions>=3.7.4.3 in /usr/local/lib/python3.7/dist-packages (from GitPython>=2.0.8->neptune-client) (3.10.0.2)\n",
            "Collecting gitdb<5,>=4.0.1\n",
            "  Downloading gitdb-4.0.9-py3-none-any.whl (63 kB)\n",
            "\u001b[K     |████████████████████████████████| 63 kB 1.8 MB/s \n",
            "\u001b[?25hCollecting smmap<6,>=3.0.1\n",
            "  Downloading smmap-5.0.0-py3-none-any.whl (24 kB)\n",
            "Collecting urllib3\n",
            "  Downloading urllib3-1.25.11-py2.py3-none-any.whl (127 kB)\n",
            "\u001b[K     |████████████████████████████████| 127 kB 45.3 MB/s \n",
            "\u001b[?25hRequirement already satisfied: certifi>=2017.4.17 in /usr/local/lib/python3.7/dist-packages (from requests>=2.20.0->neptune-client) (2021.10.8)\n",
            "Requirement already satisfied: chardet<4,>=3.0.2 in /usr/local/lib/python3.7/dist-packages (from requests>=2.20.0->neptune-client) (3.0.4)\n",
            "Requirement already satisfied: idna<3,>=2.5 in /usr/local/lib/python3.7/dist-packages (from requests>=2.20.0->neptune-client) (2.10)\n",
            "Requirement already satisfied: jsonschema in /usr/local/lib/python3.7/dist-packages (from swagger-spec-validator>=2.7.4->neptune-client) (4.3.3)\n",
            "Requirement already satisfied: pyyaml in /usr/local/lib/python3.7/dist-packages (from swagger-spec-validator>=2.7.4->neptune-client) (3.13)\n",
            "Requirement already satisfied: wrapt>=1.11.0 in /usr/local/lib/python3.7/dist-packages (from tensorflow) (1.13.3)\n",
            "Requirement already satisfied: astunparse>=1.6.0 in /usr/local/lib/python3.7/dist-packages (from tensorflow) (1.6.3)\n",
            "Requirement already satisfied: gast>=0.2.1 in /usr/local/lib/python3.7/dist-packages (from tensorflow) (0.5.3)\n",
            "Requirement already satisfied: keras-preprocessing>=1.1.1 in /usr/local/lib/python3.7/dist-packages (from tensorflow) (1.1.2)\n",
            "Requirement already satisfied: grpcio<2.0,>=1.24.3 in /usr/local/lib/python3.7/dist-packages (from tensorflow) (1.44.0)\n",
            "Requirement already satisfied: setuptools in /usr/local/lib/python3.7/dist-packages (from tensorflow) (57.4.0)\n",
            "Requirement already satisfied: tensorflow-io-gcs-filesystem>=0.23.1 in /usr/local/lib/python3.7/dist-packages (from tensorflow) (0.24.0)\n",
            "Requirement already satisfied: absl-py>=0.4.0 in /usr/local/lib/python3.7/dist-packages (from tensorflow) (1.0.0)\n",
            "Requirement already satisfied: tensorboard<2.9,>=2.8 in /usr/local/lib/python3.7/dist-packages (from tensorflow) (2.8.0)\n",
            "Requirement already satisfied: keras<2.9,>=2.8.0rc0 in /usr/local/lib/python3.7/dist-packages (from tensorflow) (2.8.0)\n",
            "Requirement already satisfied: libclang>=9.0.1 in /usr/local/lib/python3.7/dist-packages (from tensorflow) (13.0.0)\n",
            "Requirement already satisfied: termcolor>=1.1.0 in /usr/local/lib/python3.7/dist-packages (from tensorflow) (1.1.0)\n",
            "Collecting tf-estimator-nightly==2.8.0.dev2021122109\n",
            "  Downloading tf_estimator_nightly-2.8.0.dev2021122109-py2.py3-none-any.whl (462 kB)\n",
            "\u001b[K     |████████████████████████████████| 462 kB 53.6 MB/s \n",
            "\u001b[?25hRequirement already satisfied: flatbuffers>=1.12 in /usr/local/lib/python3.7/dist-packages (from tensorflow) (2.0)\n",
            "Requirement already satisfied: numpy>=1.20 in /usr/local/lib/python3.7/dist-packages (from tensorflow) (1.21.5)\n",
            "Requirement already satisfied: protobuf>=3.9.2 in /usr/local/lib/python3.7/dist-packages (from tensorflow) (3.17.3)\n",
            "Requirement already satisfied: h5py>=2.9.0 in /usr/local/lib/python3.7/dist-packages (from tensorflow) (3.1.0)\n",
            "Requirement already satisfied: google-pasta>=0.1.1 in /usr/local/lib/python3.7/dist-packages (from tensorflow) (0.2.0)\n",
            "Requirement already satisfied: opt-einsum>=2.3.2 in /usr/local/lib/python3.7/dist-packages (from tensorflow) (3.3.0)\n",
            "Requirement already satisfied: wheel<1.0,>=0.23.0 in /usr/local/lib/python3.7/dist-packages (from astunparse>=1.6.0->tensorflow) (0.37.1)\n",
            "Requirement already satisfied: cached-property in /usr/local/lib/python3.7/dist-packages (from h5py>=2.9.0->tensorflow) (1.5.2)\n",
            "Requirement already satisfied: tensorboard-data-server<0.7.0,>=0.6.0 in /usr/local/lib/python3.7/dist-packages (from tensorboard<2.9,>=2.8->tensorflow) (0.6.1)\n",
            "Requirement already satisfied: tensorboard-plugin-wit>=1.6.0 in /usr/local/lib/python3.7/dist-packages (from tensorboard<2.9,>=2.8->tensorflow) (1.8.1)\n",
            "Requirement already satisfied: markdown>=2.6.8 in /usr/local/lib/python3.7/dist-packages (from tensorboard<2.9,>=2.8->tensorflow) (3.3.6)\n",
            "Requirement already satisfied: google-auth-oauthlib<0.5,>=0.4.1 in /usr/local/lib/python3.7/dist-packages (from tensorboard<2.9,>=2.8->tensorflow) (0.4.6)\n",
            "Requirement already satisfied: werkzeug>=0.11.15 in /usr/local/lib/python3.7/dist-packages (from tensorboard<2.9,>=2.8->tensorflow) (1.0.1)\n",
            "Requirement already satisfied: google-auth<3,>=1.6.3 in /usr/local/lib/python3.7/dist-packages (from tensorboard<2.9,>=2.8->tensorflow) (1.35.0)\n",
            "Requirement already satisfied: rsa<5,>=3.1.4 in /usr/local/lib/python3.7/dist-packages (from google-auth<3,>=1.6.3->tensorboard<2.9,>=2.8->tensorflow) (4.8)\n",
            "Requirement already satisfied: pyasn1-modules>=0.2.1 in /usr/local/lib/python3.7/dist-packages (from google-auth<3,>=1.6.3->tensorboard<2.9,>=2.8->tensorflow) (0.2.8)\n",
            "Requirement already satisfied: cachetools<5.0,>=2.0.0 in /usr/local/lib/python3.7/dist-packages (from google-auth<3,>=1.6.3->tensorboard<2.9,>=2.8->tensorflow) (4.2.4)\n",
            "Requirement already satisfied: importlib-metadata>=4.4 in /usr/local/lib/python3.7/dist-packages (from markdown>=2.6.8->tensorboard<2.9,>=2.8->tensorflow) (4.11.2)\n",
            "Requirement already satisfied: zipp>=0.5 in /usr/local/lib/python3.7/dist-packages (from importlib-metadata>=4.4->markdown>=2.6.8->tensorboard<2.9,>=2.8->tensorflow) (3.7.0)\n",
            "Requirement already satisfied: pyasn1<0.5.0,>=0.4.6 in /usr/local/lib/python3.7/dist-packages (from pyasn1-modules>=0.2.1->google-auth<3,>=1.6.3->tensorboard<2.9,>=2.8->tensorflow) (0.4.8)\n",
            "Requirement already satisfied: msgpack in /usr/local/lib/python3.7/dist-packages (from bravado->neptune-client) (1.0.3)\n",
            "Collecting monotonic\n",
            "  Downloading monotonic-1.6-py2.py3-none-any.whl (8.2 kB)\n",
            "Collecting bravado-core>=5.16.1\n",
            "  Downloading bravado_core-5.17.0-py2.py3-none-any.whl (67 kB)\n",
            "\u001b[K     |████████████████████████████████| 67 kB 4.7 MB/s \n",
            "\u001b[?25hCollecting simplejson\n",
            "  Downloading simplejson-3.17.6-cp37-cp37m-manylinux_2_5_x86_64.manylinux1_x86_64.manylinux_2_12_x86_64.manylinux2010_x86_64.whl (130 kB)\n",
            "\u001b[K     |████████████████████████████████| 130 kB 71.2 MB/s \n",
            "\u001b[?25hCollecting jsonref\n",
            "  Downloading jsonref-0.2-py3-none-any.whl (9.3 kB)\n",
            "Requirement already satisfied: pytz in /usr/local/lib/python3.7/dist-packages (from bravado-core>=5.16.1->bravado->neptune-client) (2018.9)\n",
            "Requirement already satisfied: pyrsistent!=0.17.0,!=0.17.1,!=0.17.2,>=0.14.0 in /usr/local/lib/python3.7/dist-packages (from jsonschema->swagger-spec-validator>=2.7.4->neptune-client) (0.18.1)\n",
            "Requirement already satisfied: attrs>=17.4.0 in /usr/local/lib/python3.7/dist-packages (from jsonschema->swagger-spec-validator>=2.7.4->neptune-client) (21.4.0)\n",
            "Requirement already satisfied: importlib-resources>=1.4.0 in /usr/local/lib/python3.7/dist-packages (from jsonschema->swagger-spec-validator>=2.7.4->neptune-client) (5.4.0)\n",
            "Collecting rfc3339-validator\n",
            "  Downloading rfc3339_validator-0.1.4-py2.py3-none-any.whl (3.5 kB)\n",
            "Collecting webcolors>=1.11\n",
            "  Downloading webcolors-1.11.1-py3-none-any.whl (9.9 kB)\n",
            "Collecting rfc3987\n",
            "  Downloading rfc3987-1.3.8-py2.py3-none-any.whl (13 kB)\n",
            "Collecting uri-template\n",
            "  Downloading uri_template-1.2.0-py3-none-any.whl (10 kB)\n",
            "Collecting fqdn\n",
            "  Downloading fqdn-1.5.1-py3-none-any.whl (9.1 kB)\n",
            "Collecting jsonpointer>1.13\n",
            "  Downloading jsonpointer-2.2-py2.py3-none-any.whl (7.5 kB)\n",
            "Collecting isoduration\n",
            "  Downloading isoduration-20.11.0-py3-none-any.whl (11 kB)\n",
            "Collecting arrow>=0.15.0\n",
            "  Downloading arrow-1.2.2-py3-none-any.whl (64 kB)\n",
            "\u001b[K     |████████████████████████████████| 64 kB 2.6 MB/s \n",
            "\u001b[?25hRequirement already satisfied: pyparsing!=3.0.5,>=2.0.2 in /usr/local/lib/python3.7/dist-packages (from packaging->neptune-client) (3.0.7)\n",
            "Building wheels for collected packages: neptune-client, future, neptune-tensorflow-keras\n",
            "  Building wheel for neptune-client (setup.py) ... \u001b[?25l\u001b[?25hdone\n",
            "  Created wheel for neptune-client: filename=neptune_client-0.15.2-py2.py3-none-any.whl size=565173 sha256=459ba29d9d0b1354500019ec96a1d7e175c54ab880791dece7147858a33c4b7f\n",
            "  Stored in directory: /root/.cache/pip/wheels/4f/ff/e6/2128c7fd2e85bd327f524d44b07922848c40e48de6e75baa7e\n",
            "  Building wheel for future (setup.py) ... \u001b[?25l\u001b[?25hdone\n",
            "  Created wheel for future: filename=future-0.18.2-py3-none-any.whl size=491070 sha256=1788dbf927d612456ac5017f2e03ef514e38b96a7f897f9779d3c2d43a6598fe\n",
            "  Stored in directory: /root/.cache/pip/wheels/56/b0/fe/4410d17b32f1f0c3cf54cdfb2bc04d7b4b8f4ae377e2229ba0\n",
            "  Building wheel for neptune-tensorflow-keras (setup.py) ... \u001b[?25l\u001b[?25hdone\n",
            "  Created wheel for neptune-tensorflow-keras: filename=neptune_tensorflow_keras-0.9.9-py3-none-any.whl size=5283 sha256=b296f07eabcacb2932cf0b0cb427bb46832712a0c599be764e1f434645539a65\n",
            "  Stored in directory: /root/.cache/pip/wheels/5f/f7/43/e0ddf424b3535bc207729eb8a5da81478963603bd2fbf0accf\n",
            "Successfully built neptune-client future neptune-tensorflow-keras\n",
            "Installing collected packages: arrow, webcolors, urllib3, uri-template, rfc3987, rfc3339-validator, jsonpointer, jmespath, isoduration, fqdn, swagger-spec-validator, smmap, simplejson, jsonref, botocore, s3transfer, monotonic, gitdb, bravado-core, websocket-client, PyJWT, GitPython, future, bravado, boto3, tf-estimator-nightly, neptune-client, neptune-tensorflow-keras\n",
            "  Attempting uninstall: urllib3\n",
            "    Found existing installation: urllib3 1.24.3\n",
            "    Uninstalling urllib3-1.24.3:\n",
            "      Successfully uninstalled urllib3-1.24.3\n",
            "  Attempting uninstall: future\n",
            "    Found existing installation: future 0.16.0\n",
            "    Uninstalling future-0.16.0:\n",
            "      Successfully uninstalled future-0.16.0\n",
            "\u001b[31mERROR: pip's dependency resolver does not currently take into account all the packages that are installed. This behaviour is the source of the following dependency conflicts.\n",
            "datascience 0.10.6 requires folium==0.2.1, but you have folium 0.8.3 which is incompatible.\u001b[0m\n",
            "Successfully installed GitPython-3.1.27 PyJWT-2.3.0 arrow-1.2.2 boto3-1.21.21 botocore-1.24.21 bravado-11.0.3 bravado-core-5.17.0 fqdn-1.5.1 future-0.18.2 gitdb-4.0.9 isoduration-20.11.0 jmespath-1.0.0 jsonpointer-2.2 jsonref-0.2 monotonic-1.6 neptune-client-0.15.2 neptune-tensorflow-keras-0.9.9 rfc3339-validator-0.1.4 rfc3987-1.3.8 s3transfer-0.5.2 simplejson-3.17.6 smmap-5.0.0 swagger-spec-validator-2.7.4 tf-estimator-nightly-2.8.0.dev2021122109 uri-template-1.2.0 urllib3-1.25.11 webcolors-1.11.1 websocket-client-1.3.1\n"
          ]
        }
      ],
      "source": [
        "# Uncomment only for first run\n",
        "!pip install neptune-client neptune-tensorflow-keras tensorflow"
      ]
    },
    {
      "cell_type": "code",
      "source": [
        "import matplotlib.pyplot as plt\n",
        "import pandas as pd\n",
        "import numpy as np\n",
        "import datetime\n",
        "\n",
        "import neptune.new as neptune\n",
        "from neptune.new.integrations.tensorflow_keras import NeptuneCallback\n",
        "\n",
        "import cv2\n",
        "from google.colab.patches import cv2_imshow      # To show images using cv2 module\n",
        "from pycocotools.coco import COCO\n",
        "\n",
        "import pathlib\n",
        "import os\n",
        "\n",
        "import tensorflow as tf\n",
        "import tensorflow.keras as keras\n",
        "from tensorflow.keras.layers import Dense, Input, Dropout\n",
        "from keras.models import Sequential\n",
        "from keras.layers import Conv2D\n",
        "from keras.layers import MaxPooling2D\n",
        "from tensorflow.keras.callbacks import ModelCheckpoint, EarlyStopping\n",
        "from keras.layers import Flatten\n",
        "\n",
        "from keras.preprocessing.image import ImageDataGenerator\n",
        "\n",
        "import tensorflow_hub as hub\n",
        "\n",
        "print(\"TF version:\", tf.__version__)\n",
        "print(\"Hub version:\", hub.__version__)\n",
        "print(\"GPU is\", \"available\" if tf.config.list_physical_devices('GPU') else \"NOT AVAILABLE\")"
      ],
      "metadata": {
        "id": "vsbMBK079IvT",
        "colab": {
          "base_uri": "https://localhost:8080/"
        },
        "outputId": "86ef0a5f-109e-49dc-eb31-0f2f9e56b47c"
      },
      "execution_count": 3,
      "outputs": [
        {
          "output_type": "stream",
          "name": "stdout",
          "text": [
            "TF version: 2.8.0\n",
            "Hub version: 0.12.0\n",
            "GPU is NOT AVAILABLE\n"
          ]
        }
      ]
    },
    {
      "cell_type": "code",
      "source": [
        "# Mount Google drive so dataset can be accessed\n",
        "from google.colab import drive\n",
        "drive.mount('/content/drive')"
      ],
      "metadata": {
        "id": "KxRyo1DV9RDq",
        "colab": {
          "base_uri": "https://localhost:8080/"
        },
        "outputId": "241061ee-46aa-4988-aace-fcb9c0bde26e"
      },
      "execution_count": 4,
      "outputs": [
        {
          "output_type": "stream",
          "name": "stdout",
          "text": [
            "Mounted at /content/drive\n"
          ]
        }
      ]
    },
    {
      "cell_type": "code",
      "source": [
        "run = neptune.init(\n",
        "    project=\"palakagl/TACO-Dataset\",\n",
        "    api_token=\"eyJhcGlfYWRkcmVzcyI6Imh0dHBzOi8vYXBwLm5lcHR1bmUuYWkiLCJhcGlfdXJsIjoiaHR0cHM6Ly9hcHAubmVwdHVuZS5haSIsImFwaV9rZXkiOiIwYjM0NzcxZi0xYjY1LTRmZWQtOTNmNC1iNjYyNTdkYTBmMWYifQ==\",\n",
        ") "
      ],
      "metadata": {
        "id": "Y627smYk-K3v",
        "colab": {
          "base_uri": "https://localhost:8080/"
        },
        "outputId": "faadaa31-b7f2-4d8f-83cc-4276ea7f96b7"
      },
      "execution_count": 5,
      "outputs": [
        {
          "output_type": "stream",
          "name": "stdout",
          "text": [
            "https://app.neptune.ai/palakagl/TACO-Dataset/e/TAC-5\n"
          ]
        },
        {
          "output_type": "stream",
          "name": "stderr",
          "text": [
            "Info (NVML): Driver Not Loaded. GPU usage metrics may not be reported. For more information, see https://docs.neptune.ai/you-should-know/what-can-you-log-and-display#hardware-consumption\n"
          ]
        },
        {
          "output_type": "stream",
          "name": "stdout",
          "text": [
            "Remember to stop your run once you’ve finished logging your metadata (https://docs.neptune.ai/api-reference/run#.stop). It will be stopped automatically only when the notebook kernel/interactive console is terminated.\n"
          ]
        }
      ]
    },
    {
      "cell_type": "code",
      "source": [
        "  # Select base model  for transfer learning\n",
        "model_name = \"efficientnet_v2_50\" # @param [ 'efficientnet_v2_50', 'resnet_v1_50', 'resnet_v1_101', 'resnet_v1_152', 'resnet_v2_50', 'resnet_v2_101', 'resnet_v2_152',  'mobilenet_v2_100_224', 'mobilenet_v2_130_224', 'mobilenet_v2_140_224', 'mobilenet_v3_small_100_224', 'mobilenet_v3_small_075_224', 'mobilenet_v3_large_100_224', 'mobilenet_v3_large_075_224']\n",
        "\n",
        "model_handle_map = {\n",
        "    \"efficientnet_v2_50\": \"https://tfhub.dev/google/imagenet/efficientnet_v2_imagenet1k_b0/feature_vector/2\",   \n",
        "    \"resnet_v1_50\": \"https://tfhub.dev/google/imagenet/resnet_v1_50/feature-vector/4\",\n",
        "    \"resnet_v1_101\": \"https://tfhub.dev/google/imagenet/resnet_v1_101/feature-vector/4\",\n",
        "    \"resnet_v1_152\": \"https://tfhub.dev/google/imagenet/resnet_v1_152/feature-vector/4\",\n",
        "    \"resnet_v2_50\": \"https://tfhub.dev/google/imagenet/resnet_v2_50/feature-vector/4\",\n",
        "    \"resnet_v2_101\": \"https://tfhub.dev/google/imagenet/resnet_v2_101/feature_vector/5\",\n",
        "    \"resnet_v2_152\": \"https://tfhub.dev/google/imagenet/resnet_v2_152/feature-vector/4\",\n",
        "    \"nasnet_large\": \"https://tfhub.dev/google/imagenet/nasnet_large/feature_vector/4\",\n",
        "    \"nasnet_mobile\": \"https://tfhub.dev/google/imagenet/nasnet_mobile/feature_vector/4\",\n",
        "    \"pnasnet_large\": \"https://tfhub.dev/google/imagenet/pnasnet_large/feature_vector/4\",\n",
        "    \"mobilenet_v2_100_224\": \"https://tfhub.dev/google/imagenet/mobilenet_v2_100_224/feature_vector/4\",\n",
        "    \"mobilenet_v2_130_224\": \"https://tfhub.dev/google/imagenet/mobilenet_v2_130_224/feature_vector/4\",\n",
        "    \"mobilenet_v2_140_224\": \"https://tfhub.dev/google/imagenet/mobilenet_v2_140_224/feature_vector/4\",\n",
        "    \"mobilenet_v3_small_100_224\": \"https://tfhub.dev/google/imagenet/mobilenet_v3_small_100_224/feature_vector/5\",\n",
        "    \"mobilenet_v3_small_075_224\": \"https://tfhub.dev/google/imagenet/mobilenet_v3_small_075_224/feature_vector/5\",\n",
        "    \"mobilenet_v3_large_100_224\": \"https://tfhub.dev/google/imagenet/mobilenet_v3_large_100_224/feature_vector/5\",\n",
        "    \"mobilenet_v3_large_075_224\": \"https://tfhub.dev/google/imagenet/mobilenet_v3_large_075_224/feature_vector/5\",\n",
        "  }\n",
        "\n",
        "PIXELS = 224#@param {type:\"integer\"}\n",
        "BATCH_SIZE = 32#@param {type:\"integer\"}\n",
        "\n",
        "model_handle = model_handle_map.get(model_name)\n",
        "\n",
        "print(f\"Selected model: {model_name} : {model_handle}\")\n",
        "\n",
        "IMAGE_SIZE = (PIXELS, PIXELS)\n",
        "print(f\"Input size {IMAGE_SIZE}\")\n"
      ],
      "metadata": {
        "id": "Os3nb_RR-RoC",
        "colab": {
          "base_uri": "https://localhost:8080/"
        },
        "outputId": "d00135c4-a7a4-4438-fec2-a8fda1e99c6c"
      },
      "execution_count": 6,
      "outputs": [
        {
          "output_type": "stream",
          "name": "stdout",
          "text": [
            "Selected model: efficientnet_v2_50 : https://tfhub.dev/google/imagenet/efficientnet_v2_imagenet1k_b0/feature_vector/2\n",
            "Input size (224, 224)\n"
          ]
        }
      ]
    },
    {
      "cell_type": "code",
      "source": [
        "#Log to NeptuneAI\n",
        "run[\"model/transferlearning/model_name\"] = model_name\n",
        "#run[\"model/transferlearning/model_url\"] = model_handle\n",
        "run[\"model/transferlearning/model_batch_size\"] = BATCH_SIZE\n",
        "run[\"model/parameters/image_size\"] = IMAGE_SIZE"
      ],
      "metadata": {
        "id": "Fbe0MvKQ-WXH"
      },
      "execution_count": 7,
      "outputs": []
    },
    {
      "cell_type": "code",
      "source": [
        "def load_data(save_dir=\"./\"):\n",
        "\n",
        "  dir_path = '/content/drive/MyDrive/MMAI_894/TACO_Dataset/data/Final_Dataset/'\n",
        "  \n",
        "  datagen_kwargs = dict(rescale=1./255, validation_split=0.2)\n",
        "\n",
        "  dataflow_kwargs = dict(target_size=(PIXELS, PIXELS), \n",
        "                        batch_size=BATCH_SIZE,\n",
        "                        class_mode=\"categorical\",\n",
        "                        )\n",
        "\n",
        "  train_datagen = tf.keras.preprocessing.image.ImageDataGenerator(\n",
        "      horizontal_flip=True, vertical_flip=True, rotation_range=90,\n",
        "      **datagen_kwargs)\n",
        "  train_generator = train_datagen.flow_from_directory(dir_path, \n",
        "                                            subset='training',\n",
        "                                            seed=11,\n",
        "                                            interpolation='nearest',\n",
        "                                            **dataflow_kwargs\n",
        "                                            )\n",
        "\n",
        "  val_datagen = tf.keras.preprocessing.image.ImageDataGenerator(\n",
        "      **datagen_kwargs)\n",
        "  val_generator = val_datagen.flow_from_directory(dir_path, \n",
        "                                            subset='validation',\n",
        "                                            seed=11,\n",
        "                                            interpolation='nearest',\n",
        "                                            **dataflow_kwargs\n",
        "                                            )\n",
        "  return val_generator, train_generator\n",
        "\n",
        "VAL_generator, TRAIN_generator = load_data()"
      ],
      "metadata": {
        "id": "XIM_rTiA-aHY",
        "colab": {
          "base_uri": "https://localhost:8080/"
        },
        "outputId": "194725aa-a918-479e-cbc7-554fa84484bd"
      },
      "execution_count": 8,
      "outputs": [
        {
          "output_type": "stream",
          "name": "stdout",
          "text": [
            "Found 1564 images belonging to 5 classes.\n",
            "Found 389 images belonging to 5 classes.\n"
          ]
        }
      ]
    },
    {
      "cell_type": "code",
      "source": [
        "# plot the first 9 images in the planet dataset\n",
        "from matplotlib import pyplot\n",
        "from matplotlib.image import imread\n",
        "# define location of dataset\n",
        "folder = '/content/drive/MyDrive/MMAI_894/TACO_Dataset/data/Final_Dataset/Plastic/'\n",
        "# plot first few images\n",
        "for i in range(4):\n",
        "\t# define subplot\n",
        "\tpyplot.subplot(330 + 1 + i)\n",
        "\t# define filename\n",
        "\tfilename = folder + 'batch_1_0000' + str(i+21) + '.jpg'\n",
        "\t# load image pixels\n",
        "\timage = imread(filename)\n",
        "\t# plot raw pixel data\n",
        "\tpyplot.imshow(image)\n",
        "# show the figure\n",
        "pyplot.show()"
      ],
      "metadata": {
        "id": "5F3SRfEA-ulH",
        "colab": {
          "base_uri": "https://localhost:8080/",
          "height": 193
        },
        "outputId": "0ca204a7-31bc-40ce-d74a-3f523178bee6"
      },
      "execution_count": 9,
      "outputs": [
        {
          "output_type": "display_data",
          "data": {
            "text/plain": [
              "<Figure size 432x288 with 4 Axes>"
            ],
            "image/png": "[encoded data removed]"
          },
          "metadata": {
            "needs_background": "light"
          }
        }
      ]
    },
    {
      "cell_type": "code",
      "source": [
        "def define_model(in_shape=(224, 224, 3), out_shape=5):\n",
        "\tmodel = Sequential()\n",
        "\tmodel.add(Conv2D(32, (3, 3), activation='relu', kernel_initializer='he_uniform', padding='same', input_shape=in_shape))\n",
        "\tmodel.add(Conv2D(32, (3, 3), activation='relu', kernel_initializer='he_uniform', padding='same'))\n",
        "\tmodel.add(MaxPooling2D((2, 2)))\n",
        "\tmodel.add(Conv2D(64, (3, 3), activation='relu', kernel_initializer='he_uniform', padding='same'))\n",
        "\tmodel.add(Conv2D(64, (3, 3), activation='relu', kernel_initializer='he_uniform', padding='same'))\n",
        "\tmodel.add(MaxPooling2D((2, 2)))\n",
        "\tmodel.add(Conv2D(128, (3, 3), activation='relu', kernel_initializer='he_uniform', padding='same'))\n",
        "\tmodel.add(Conv2D(128, (3, 3), activation='relu', kernel_initializer='he_uniform', padding='same'))\n",
        "\tmodel.add(MaxPooling2D((2, 2)))\n",
        "\tmodel.add(Flatten())\n",
        "\tmodel.add(Dense(128, activation='relu', kernel_initializer='he_uniform'))\n",
        "\tmodel.add(Dense(out_shape, activation='sigmoid'))\n",
        "\treturn model\n",
        " \n",
        "model = define_model()"
      ],
      "metadata": {
        "id": "NUfNH2LF-vuE"
      },
      "execution_count": 10,
      "outputs": []
    },
    {
      "cell_type": "code",
      "source": [
        "print(\"Building model with\", model_handle)\n",
        "def build_model_with_transfer_learning(trainable=False, params={}):\n",
        "\n",
        "    #imports the mobilenet model and discards the last 1000 neuron layer.\n",
        "   #base_model=keras.applications.MobileNetV2(weights='imagenet',\n",
        "   #                                          include_top=False,\n",
        "   #                                          input_shape=IMAGE_SIZE+(3,))\n",
        "\n",
        "   # base_model.trainable = False                                      \n",
        "\n",
        "   inputs = keras.Input(shape=IMAGE_SIZE+(3,))\n",
        "   x = hub.KerasLayer(model_handle, trainable=trainable)\n",
        "  #x = base_model(inputs, training=False)\n",
        "   x = keras.layers.GlobalAveragePooling2D()(x)\n",
        "   x=Dense(params['dense_units_1'],activation=params['dense_layer_activation_1'])(x)\n",
        "   x=Dropout(params['dropout_1'])(x)\n",
        "   x=Dense(params['dense_units_2'],activation=params['dense_layer_activation_2'])(x)\n",
        "   x=Dropout(params['dropout_2'])(x)\n",
        "   x = Flatten()(x)\n",
        "   x=Dense(params['dense_units_2'],activation=params['dense_layer_activation_2'])(x)\n",
        "   outputs = keras.layers.Dense(59, activation=params['final_layer_activation'])(x)\n",
        "   model = keras.Model(inputs, outputs)\n",
        "\n",
        "   return model\n",
        "\n",
        "model.summary()\n",
        "\n",
        "params = {\n",
        "    \"dense_units_1\": 512,\n",
        "    \"dense_layer_activation_1\": \"relu\",\n",
        "    \"dropout_1\": 0.3,    \n",
        "    \"dense_units_2\": 128,\n",
        "    \"dense_layer_activation_2\": \"relu\",\n",
        "    \"dropout_2\": 0.1,\n",
        "    \"final_layer_activation\": \"sigmoid\",\n",
        "    \"learning_rate\": 1e-2,\n",
        "    \"n_epochs\": 50,    \n",
        "    \"regularizer_rate\":0.005\n",
        "}\n",
        "run[\"model/parameters\"] = params\n",
        "#model = build_model_with_transfer_learning(params=params)"
      ],
      "metadata": {
        "id": "rX4l58sg-1lp",
        "colab": {
          "base_uri": "https://localhost:8080/"
        },
        "outputId": "4556b43f-8973-4ad7-c8d2-10002d83177a"
      },
      "execution_count": 11,
      "outputs": [
        {
          "output_type": "stream",
          "name": "stdout",
          "text": [
            "Building model with https://tfhub.dev/google/imagenet/efficientnet_v2_imagenet1k_b0/feature_vector/2\n",
            "Model: \"sequential\"\n",
            "_________________________________________________________________\n",
            " Layer (type)                Output Shape              Param #   \n",
            "=================================================================\n",
            " conv2d (Conv2D)             (None, 224, 224, 32)      896       \n",
            "                                                                 \n",
            " conv2d_1 (Conv2D)           (None, 224, 224, 32)      9248      \n",
            "                                                                 \n",
            " max_pooling2d (MaxPooling2D  (None, 112, 112, 32)     0         \n",
            " )                                                               \n",
            "                                                                 \n",
            " conv2d_2 (Conv2D)           (None, 112, 112, 64)      18496     \n",
            "                                                                 \n",
            " conv2d_3 (Conv2D)           (None, 112, 112, 64)      36928     \n",
            "                                                                 \n",
            " max_pooling2d_1 (MaxPooling  (None, 56, 56, 64)       0         \n",
            " 2D)                                                             \n",
            "                                                                 \n",
            " conv2d_4 (Conv2D)           (None, 56, 56, 128)       73856     \n",
            "                                                                 \n",
            " conv2d_5 (Conv2D)           (None, 56, 56, 128)       147584    \n",
            "                                                                 \n",
            " max_pooling2d_2 (MaxPooling  (None, 28, 28, 128)      0         \n",
            " 2D)                                                             \n",
            "                                                                 \n",
            " flatten (Flatten)           (None, 100352)            0         \n",
            "                                                                 \n",
            " dense (Dense)               (None, 128)               12845184  \n",
            "                                                                 \n",
            " dense_1 (Dense)             (None, 5)                 645       \n",
            "                                                                 \n",
            "=================================================================\n",
            "Total params: 13,132,837\n",
            "Trainable params: 13,132,837\n",
            "Non-trainable params: 0\n",
            "_________________________________________________________________\n"
          ]
        }
      ]
    },
    {
      "cell_type": "code",
      "source": [
        "from keras import backend\n",
        " \n",
        "# calculate fbeta score for multi-class/label classification\n",
        "def fbeta(y_true, y_pred, beta=2):\n",
        "\t# clip predictions\n",
        "\ty_pred = backend.clip(y_pred, 0, 1)\n",
        "\t# calculate elements\n",
        "\ttp = backend.sum(backend.round(backend.clip(y_true * y_pred, 0, 1)), axis=1)\n",
        "\tfp = backend.sum(backend.round(backend.clip(y_pred - y_true, 0, 1)), axis=1)\n",
        "\tfn = backend.sum(backend.round(backend.clip(y_true - y_pred, 0, 1)), axis=1)\n",
        "\t# calculate precision\n",
        "\tp = tp / (tp + fp + backend.epsilon())\n",
        "\t# calculate recall\n",
        "\tr = tp / (tp + fn + backend.epsilon())\n",
        "\t# calculate fbeta, averaged across each class\n",
        "\tbb = beta ** 2\n",
        "\tfbeta_score = backend.mean((1 + bb) * (p * r) / (bb * p + r + backend.epsilon()))\n",
        "\treturn fbeta_score"
      ],
      "metadata": {
        "id": "MFLDdwQU-5cl"
      },
      "execution_count": 12,
      "outputs": []
    },
    {
      "cell_type": "code",
      "source": [
        "def compile_model(model):\n",
        "  model.compile(\n",
        "    optimizer=tf.keras.optimizers.RMSprop(), \n",
        "  loss=keras.losses.BinaryCrossentropy(),\n",
        "  metrics=['accuracy'])\n",
        "  return model\n",
        "\n",
        "model = compile_model(model)"
      ],
      "metadata": {
        "id": "DSAelEi7_CPH"
      },
      "execution_count": 13,
      "outputs": []
    },
    {
      "cell_type": "code",
      "source": [
        "def train_model(model, num_epochs):\n",
        "    steps_per_epoch = TRAIN_generator.samples // TRAIN_generator.batch_size\n",
        "    validation_steps = VAL_generator.samples // VAL_generator.batch_size\n",
        "\n",
        "    history = model.fit(\n",
        "      TRAIN_generator,\n",
        "      epochs=num_epochs, steps_per_epoch=steps_per_epoch,\n",
        "      validation_data = VAL_generator,\n",
        "      validation_steps = validation_steps,\n",
        "     #callbacks=[NeptuneCallback(run=run),EarlyStoppingCallback]\n",
        "     ).history\n",
        "    \n",
        "    return model, history\n",
        "\n",
        "model, history = train_model(model, num_epochs=5)"
      ],
      "metadata": {
        "id": "TBPfN_KZ_Hl3",
        "colab": {
          "base_uri": "https://localhost:8080/"
        },
        "outputId": "28cedead-b5a3-46bc-ac93-fe44bcdcd045"
      },
      "execution_count": null,
      "outputs": [
        {
          "output_type": "stream",
          "name": "stdout",
          "text": [
            "Epoch 1/5\n",
            " 2/48 [>.............................] - ETA: 13:29 - loss: 37.9112 - accuracy: 0.4219"
          ]
        }
      ]
    },
    {
      "cell_type": "code",
      "source": [
        "plt.figure()\n",
        "plt.ylabel(\"fbeta (training and validation)\")\n",
        "plt.xlabel(\"Training Steps\")\n",
        "plt.ylim([0,2])\n",
        "plt.plot(history[\"fbeta\"])\n",
        "plt.plot(history[\"val_fbeta\"])\n",
        "\n",
        "plt.figure()\n",
        "plt.ylabel(\"Accuracy (training and validation)\")\n",
        "plt.xlabel(\"Training Steps\")\n",
        "plt.ylim([0,1])\n",
        "plt.plot(history[\"accuracy\"])\n",
        "plt.plot(history[\"val_accuracy\"])"
      ],
      "metadata": {
        "id": "8qRDGfDv_Lyb"
      },
      "execution_count": null,
      "outputs": []
    },
    {
      "cell_type": "code",
      "source": [
        "# define filename\n",
        "filename = '/content/drive/MyDrive/Colab Notebooks/data/trash/Aerosol/batch_1_000054.jpg'\n",
        "\n",
        "img = tf.keras.preprocessing.image.load_img(\n",
        "    filename, target_size=(224, 224)\n",
        ")\n",
        "img_array = tf.keras.preprocessing.image.img_to_array(img)\n",
        "img_array = tf.expand_dims(img_array, 0) # Create a batch\n",
        "\n",
        "predictions = model.predict(img_array)\n",
        "print(predictions)\n",
        "score = tf.nn.sigmoid(predictions[0])\n",
        "print(score)\n",
        "print(list(class_names))\n",
        "print( \"This image most likely belongs to {} with a {:.2f} percent confidence.\"\n",
        "    .format(list(class_names)[np.argmax(score)], 100 * np.max(score)) )"
      ],
      "metadata": {
        "id": "AXiJIk6A_O6B"
      },
      "execution_count": null,
      "outputs": []
    },
    {
      "cell_type": "code",
      "source": [
        "# Generate predictions\n",
        "model.load_weights('/content/drive/MyDrive/Colab Notebooks/Models/garbageclassification_model_checkpoint/resnet_best_weights.hdf5') # initialize the best trained weights\n",
        "preds = model.predict(test_ds)\n",
        "pred_classes = np.argmax(preds, axis = 1)"
      ],
      "metadata": {
        "id": "bgylmfKM_Sos"
      },
      "execution_count": null,
      "outputs": []
    },
    {
      "cell_type": "code",
      "source": [
        "saved_model_path = \"/content/drive/MyDrive/Colab Notebooks/Models/saved_garbageclassification_model\"\n",
        "tf.saved_model.save(model, saved_model_path)"
      ],
      "metadata": {
        "id": "e8wIMa7V_VcY"
      },
      "execution_count": null,
      "outputs": []
    },
    {
      "cell_type": "code",
      "source": [
        ""
      ],
      "metadata": {
        "id": "aAg8YNVA_ZJk"
      },
      "execution_count": null,
      "outputs": []
    },
    {
      "cell_type": "code",
      "source": [
        "# Add Callbacks\n",
        "\n",
        "# Model Checkpoint\n",
        "tl_checkpoint_1 = ModelCheckpoint(filepath = '/content/drive/MyDrive/Colab Notebooks/Models/garbageclassification_model_checkpoint/resnet_best_weights.hdf5', save_best_only = True, verbose = 0)\n",
        "\n",
        "# Early Stopping Checkpoint\n",
        "EarlyStoppingCallback = tf.keras.callbacks.EarlyStopping(monitor='accuracy', patience=10)"
      ],
      "metadata": {
        "id": "iDw0ORan_Da5"
      },
      "execution_count": null,
      "outputs": []
    }
  ]
}